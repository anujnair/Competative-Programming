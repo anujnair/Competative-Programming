{
 "cells": [
  {
   "cell_type": "code",
   "execution_count": 1,
   "metadata": {},
   "outputs": [
    {
     "name": "stdout",
     "output_type": "stream",
     "text": [
      "12 36 24 1\n",
      "Sorted array is:\n",
      "1\n",
      "12\n",
      "24\n",
      "36\n"
     ]
    }
   ],
   "source": [
    "#  Bubble sort\n",
    "\n",
    "def bubbleSort(arr):\n",
    "    n = len(arr)\n",
    "\n",
    "    for i in range(n):\n",
    "\n",
    "        for j in range(0, n-i-1):\n",
    "\n",
    "            if arr[j] > arr[j+1] :\n",
    "                arr[j], arr[j+1] = arr[j+1], arr[j]\n",
    "\n",
    "arr=list(map(int,input().rstrip().split()))\n",
    "bubbleSort(arr)\n",
    "\n",
    "print (\"Sorted array is:\")\n",
    "for i in range(len(arr)):\n",
    "    print (\"%d\" %arr[i]), \n"
   ]
  },
  {
   "cell_type": "code",
   "execution_count": 2,
   "metadata": {},
   "outputs": [
    {
     "name": "stdout",
     "output_type": "stream",
     "text": [
      "12 36 24 1\n",
      "Sorted array\n",
      "1\n",
      "12\n",
      "24\n",
      "36\n"
     ]
    }
   ],
   "source": [
    "#  Selection Sort\n",
    "\n",
    "import sys \n",
    "\n",
    "arr=list(map(int,input().rstrip().split()))\n",
    "\n",
    "for i in range(len(arr)): \n",
    "\n",
    "    min = i \n",
    "    for j in range(i+1, len(arr)): \n",
    "        if arr[min] > arr[j]: \n",
    "            min = j \n",
    "    arr[i], arr[min] = arr[min], arr[i] \n",
    "\n",
    "print (\"Sorted array\") \n",
    "for i in range(len(arr)): \n",
    "    print(\"%d\" %arr[i]), \n"
   ]
  },
  {
   "cell_type": "code",
   "execution_count": 3,
   "metadata": {},
   "outputs": [
    {
     "name": "stdout",
     "output_type": "stream",
     "text": [
      "12 36 1 24\n",
      "Sorted array is:\n",
      "1\n",
      "12\n",
      "24\n",
      "36\n"
     ]
    }
   ],
   "source": [
    "#  Insertion Sort\n",
    " \n",
    "def insertionSort(arr): \n",
    "\n",
    "    for i in range(1, len(arr)): \n",
    "\n",
    "        key = arr[i] \n",
    "        j = i-1\n",
    "        while j >=0 and key < arr[j] : \n",
    "            arr[j+1] = arr[j] \n",
    "            j -= 1\n",
    "            arr[j+1] = key \n",
    " \n",
    "\n",
    "    \n",
    "arr=list(map(int,input().rstrip().split()))\n",
    "insertionSort(arr) \n",
    "print (\"Sorted array is:\") \n",
    "for i in range(len(arr)): \n",
    "    print (\"%d\" %arr[i]) \n",
    "\n"
   ]
  },
  {
   "cell_type": "code",
   "execution_count": null,
   "metadata": {},
   "outputs": [],
   "source": []
  }
 ],
 "metadata": {
  "kernelspec": {
   "display_name": "Python 3",
   "language": "python",
   "name": "python3"
  },
  "language_info": {
   "codemirror_mode": {
    "name": "ipython",
    "version": 3
   },
   "file_extension": ".py",
   "mimetype": "text/x-python",
   "name": "python",
   "nbconvert_exporter": "python",
   "pygments_lexer": "ipython3",
   "version": "3.6.10"
  }
 },
 "nbformat": 4,
 "nbformat_minor": 4
}
